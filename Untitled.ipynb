{
 "cells": [
  {
   "cell_type": "code",
   "execution_count": 23,
   "metadata": {},
   "outputs": [],
   "source": [
    "import seaborn\n",
    "import pandas\n",
    "import codecs"
   ]
  },
  {
   "cell_type": "code",
   "execution_count": 24,
   "metadata": {},
   "outputs": [],
   "source": [
    "def get_county_id(county_state):\n",
    "    entry = climate[climate[\"county_state\"] == county_state]\n",
    "    return entry[\"county_id\"].to_list()[0]\n",
    "\n",
    "def get_state_id(county_state):\n",
    "    entry = climate[climate[\"county_state\"] == county_state]\n",
    "    return entry[\"state_id\"].to_list()[0]\n",
    "\n",
    "def add_ids(df):\n",
    "    df[\"county_id\"] = df[\"county_state\"].apply(get_county_id)\n",
    "    df[\"state_id\"] = df[\"county_state\"].apply(get_state_id)\n",
    "\n",
    "def prefix_state(value):\n",
    "    missing_zeros = 2 - len(value)\n",
    "    return \"0\" * missing_zeros + value\n",
    "\n",
    "def prefix_county(value):\n",
    "    missing_zeros = 3 - len(value)\n",
    "    return \"0\" * missing_zeros + value\n",
    "\n",
    "def prefix_zeros(df):\n",
    "    df[\"COUNTYFP\"] = df[\"COUNTYFP\"].apply(prefix_county)\n",
    "    df[\"STATEFP\"] = df[\"STATEFP\"].apply(prefix_state)"
   ]
  },
  {
   "cell_type": "code",
   "execution_count": 28,
   "metadata": {},
   "outputs": [],
   "source": [
    "climate = pandas.read_csv(\"climate.csv\", dtype={'STATEFP': str, 'COUNTYFP': str})\n",
    "climate_normalized_by_nation = pandas.read_csv(\"climate_normalized_by_nation.csv\", dtype={'STATEFP': str, 'COUNTYFP': str})\n",
    "climate_normalized_by_nation_stdv = pandas.read_csv(\"climate_normalized_by_nation_stdv.csv\", dtype={'STATEFP': str, 'COUNTYFP': str})\n",
    "climate_normalized_by_state_stdv = pandas.read_csv(\"climate_normalized_by_state_stdv.csv\", dtype={'STATEFP': str, 'COUNTYFP': str})\n",
    "climate_normalized_by_state = pandas.read_csv(\"climate_normalized_by_state.csv\", dtype={'STATEFP': str, 'COUNTYFP': str})\n",
    "demographics_normalized_by_nation = pandas.read_csv(\"demographics_normalized_by_nation_stdv.csv\", dtype={'STATEFP': str, 'COUNTYFP': str})\n",
    "demographics_normalized_by_state = pandas.read_csv(\"demographics_normalized_by_state_stdv.csv\", dtype={'STATEFP': str, 'COUNTYFP': str})\n",
    "demographics = pandas.read_csv(\"demographics.csv\", dtype={'STATEFP': str, 'COUNTYFP': str})"
   ]
  },
  {
   "cell_type": "code",
   "execution_count": 31,
   "metadata": {},
   "outputs": [],
   "source": [
    "prefix_zeros(climate)\n",
    "prefix_zeros(climate_normalized_by_nation)\n",
    "prefix_zeros(climate_normalized_by_nation_stdv)\n",
    "prefix_zeros(climate_normalized_by_state_stdv)\n",
    "prefix_zeros(climate_normalized_by_state)\n",
    "prefix_zeros(demographics_normalized_by_nation)\n",
    "prefix_zeros(demographics_normalized_by_state)\n",
    "prefix_zeros(demographics)"
   ]
  },
  {
   "cell_type": "code",
   "execution_count": 32,
   "metadata": {},
   "outputs": [],
   "source": [
    "climate.round(2).to_csv(\"climate.csv\", index=False)\n",
    "climate_normalized_by_nation.round(2).to_csv(\"climate_normalized_by_nation.csv\", index=False)\n",
    "climate_normalized_by_nation_stdv.round(2).to_csv(\"climate_normalized_by_nation_stdv.csv\", index=False)\n",
    "climate_normalized_by_state_stdv.round(2).to_csv(\"climate_normalized_by_state_stdv.csv\", index=False)\n",
    "climate_normalized_by_state.round(2).to_csv(\"climate_normalized_by_state.csv\", index=False)\n",
    "demographics.round(2).to_csv(\"demographics.csv\", index=False)\n",
    "demographics_normalized_by_nation.round(2).to_csv(\"demographics_normalized_by_nation_stdv.csv\", index=False)\n",
    "demographics_normalized_by_state.round(2).to_csv(\"demographics_normalized_by_state_stdv.csv\", index=False)"
   ]
  },
  {
   "cell_type": "code",
   "execution_count": null,
   "metadata": {},
   "outputs": [],
   "source": []
  },
  {
   "cell_type": "code",
   "execution_count": null,
   "metadata": {},
   "outputs": [],
   "source": []
  },
  {
   "cell_type": "code",
   "execution_count": null,
   "metadata": {},
   "outputs": [],
   "source": []
  }
 ],
 "metadata": {
  "kernelspec": {
   "display_name": "Python 3",
   "language": "python",
   "name": "python3"
  },
  "language_info": {
   "codemirror_mode": {
    "name": "ipython",
    "version": 3
   },
   "file_extension": ".py",
   "mimetype": "text/x-python",
   "name": "python",
   "nbconvert_exporter": "python",
   "pygments_lexer": "ipython3",
   "version": "3.8.5"
  }
 },
 "nbformat": 4,
 "nbformat_minor": 4
}
